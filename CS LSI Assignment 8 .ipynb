{
 "cells": [
  {
   "cell_type": "markdown",
   "metadata": {},
   "source": [
    "Dmitry MIkhaylov\n",
    "dimami@ya.ru"
   ]
  },
  {
   "cell_type": "markdown",
   "metadata": {},
   "source": [
    "# Exercise 3 (Priority Queues, 7 Points)"
   ]
  },
  {
   "cell_type": "markdown",
   "metadata": {},
   "source": [
    "In the lecture, heaps were presented as a possible implementation for priority queues. Another option is to use AVL trees.\n",
    "\n",
    "a) Assume that the operations insert, delete, search for an AVL tree are implemented. How would\n",
    "you implement the operations insert, maximum, extract-max, increase-key, decrease-key that a\n",
    "priority queue should support? You only need to provide the pseudocode. (4P)\n",
    "\n",
    "b) What are the asymptotic running times for these operations? How do they compare to those with\n",
    "a heap implementation of priority queues? (3P)"
   ]
  },
  {
   "cell_type": "markdown",
   "metadata": {},
   "source": [
    "# Theory\n"
   ]
  },
  {
   "cell_type": "markdown",
   "metadata": {},
   "source": [
    "## Priority queues\n",
    "\n",
    "An abstract data type similar to a regular queue or stack data structure in which each element additionally has a \"priority\" associated with it. In a priority queue, an element with high priority is served before an element with low priority. In some implementations, if two elements have the same priority, they are served according to the order in which they were enqueued, while in other implementations, ordering of elements with the same priority is undefined.\n",
    "\n",
    "Allows:\n",
    "\n",
    "+insert \n",
    "\n",
    "+extract(max)/extract(min)\n",
    "\n",
    "+compute priority for each node\n",
    "\n",
    "Can be implemented as: heaps, AVL trees (self-balance tree), unordered array, ordered array"
   ]
  },
  {
   "cell_type": "markdown",
   "metadata": {},
   "source": [
    "## Heaps\n",
    "\n",
    "Definition: A (binary maximum) heap is a complete binary tree in which all nodes 𝑣 satisfy the heap condition \n",
    "\n",
    "## 𝑣 ≤ parent(𝑣)\n",
    "\n",
    "– Reminder: complete = balanced and left-justified\n",
    "\n",
    "– We can see the maximum in Θ(1) (always at the root)\n",
    "\n",
    "– Less stringent ordering, easier to maintain balance\n",
    "\n",
    "– Min-heaps can be defined analogously"
   ]
  },
  {
   "cell_type": "markdown",
   "metadata": {},
   "source": [
    "## AVL tree\n",
    "\n",
    "Binary tree that consist of node, each can contain key:value pair or just value.\n",
    "Can have 2 or less children\n",
    "\n",
    "For each node of the tree the hight of its right subtree is differed from the hight of the left subtree not more than by 1.\n",
    "\n",
    "Traditionally, the nodes of AVL tree store not the height, but the difference between height (balance factor) which can be only\n",
    "-1, 0 or 1.\n"
   ]
  },
  {
   "cell_type": "markdown",
   "metadata": {},
   "source": [
    "## a) Assume that the operations insert, delete, search for an AVL tree are implemented. How would you implement the operations insert, maximum, extract-max, increase-key, decrease-key that a priority queue should support? You only need to provide the pseudocode. (4P)"
   ]
  },
  {
   "cell_type": "markdown",
   "metadata": {},
   "source": [
    "First we assume that there exist a class and an object of this class: AVL tree.\n",
    "Where insert, delete, search - are implemented!"
   ]
  },
  {
   "cell_type": "markdown",
   "metadata": {},
   "source": [
    "## maximum - finding max. The maximum element in an AVL tree is the rightmost node. So just start at the root, traverse right pointers to the end, and return the leaf node.\n",
    "\n",
    "def maximum(AVL_tree):\n",
    "\n",
    "    node = root\n",
    "    \n",
    "    while node.right != None:\n",
    "    \n",
    "        node=node.right\n",
    "        \n",
    "    return node"
   ]
  },
  {
   "cell_type": "markdown",
   "metadata": {},
   "source": [
    "## extract-max - Find the maximum node as above, and delete it.\n",
    "\n",
    "def extract-max(AVL_tree):\n",
    "\n",
    "    max_node=maximum(AVL_tree)\n",
    "    \n",
    "    deep_copy_max=max_node\n",
    "    \n",
    "    delete(max_node)\n",
    "    \n",
    "    return deep_copy_max"
   ]
  },
  {
   "cell_type": "markdown",
   "metadata": {},
   "source": [
    "## increase-key/decrease-key - for this function we will need the algorith below:\n",
    "\n",
    "Search to find the node you're interested in. O(log n)\n",
    "\n",
    "Delete it from the tree. O(log n)\n",
    "\n",
    "Modify the key. O(n)???\n",
    "\n",
    "Totally = 3log(n)+O(n)\n",
    "\n",
    "\n",
    "Re-insert into the tree. O(log n)\n",
    "\n",
    "def increase_key(AVL_tree, node):\n",
    "    deep_copy_found_node=search(node)\n",
    "    delete(node)\n",
    "    deep_copy_found_node.key = deep_copy_found_node.key + increase_factor\n",
    "    insert(deep_copy_found_node)\n",
    "    \n",
    "    \n",
    "    \n",
    "def decrease-key:\n",
    "    def increase_key(AVL_tree, node):\n",
    "    deep_copy_found_node=search(node)\n",
    "    delete(node)\n",
    "    deep_copy_found_node.key = deep_copy_found_node.key + increase_factor\n",
    "    insert(deep_copy_found_node)\n",
    "    "
   ]
  },
  {
   "cell_type": "markdown",
   "metadata": {},
   "source": [
    "## b) What are the asymptotic running times for these operations? How do they compare to those with a heap implementation of priority queues? (3P)\n"
   ]
  },
  {
   "cell_type": "markdown",
   "metadata": {},
   "source": [
    "|                  |AVL-tree |Heap (binary)|\n",
    "| ---              | ---     |     ---     |\n",
    "| search           |O(log n) |      O(N)   |\n",
    "| maximum          | O(n) ???|      Θ(1)   |\n",
    "| extract-maximum  | O(log n)|     Θ(log n)|\n",
    "| increase_key     | O(log n)|     O(log n)|\n",
    "| decrease_key     | O(log n)|     O(log n)|\n",
    "| insert           | O(log n)|     O(log n)|\n",
    "\n"
   ]
  },
  {
   "cell_type": "markdown",
   "metadata": {},
   "source": [
    "## Explanation\n",
    "#https://stackoverflow.com/questions/37498261/why-are-priority-queues-implemented-as-binary-heap#:~:text=So%20for%20this%20operation%20the,constant%20time%20than%20a%20heap.\n",
    "\n",
    "A heap is a complete tree; it is a perfectly balanced tree. Its height is log_2(n+1).\n",
    "\n",
    "A BST approach is worthwhile if this one is balanced. The best-known technique for maintaining a BST balanced is an AVL tree. This kind of tree has a height bound of 1.44 log_2(n+2) - 0.33.\n",
    "\n",
    "For the consultation of minimum you have a cost of O(log(n)) for a BST versus O(1) for a heap. So for this operation the heap clearly is better.\n",
    "\n",
    "For insertion and deletion the costs are asymptotically equivalent. \n",
    "But the BST tends to be more expensive because its height tends to be higher than a perfectly balanced tree. In addition, an AVL tree consumes more constant time than a heap. In the AVL (and also in other balancing approaches, red-black tree, treaps, splays, etc) you perform rotations, while with the heap you perform swaps, which are cheaper than rotations.\n",
    "\n",
    "Deletion on BST is a complicated and constantly expensive operation and could take O(log(n)) rotations. With a heap is O(log(n)) swaps, which recall are cheaper that rotations.\n",
    "\n",
    "Eventually, in the case of an insertion, you could perform O(log(n)) swaps for the heap and at the most two rotations for the AVL. But with the insertion into an AVL you need to perform an unsuccessful search, while the heap you can directly insert the new key before starting to swap. I think that only with the insertion a BST could sometimes beat a heap. However, take in account that very probably you would use a priority queue for consultations and deletions; so, If this is the case, then surely you will recover the time you could lose when you made the insertions.\n",
    "\n",
    "In addition, a heap is by far much easier to implement than a BST if you use an array which stores the level traversal of complete tree. In this case, you do not need pointers\n",
    "\n",
    "\n",
    "## Conclusion\n",
    "### Even the complexity is comaprable, heap implementation of priority queue requires less time for operations and easier to implement. AVL tree might be used if greater number of  insertions are expected while few other operations with nodes. \n",
    "### Therefore, heap is preferable implementation for a priority queues."
   ]
  },
  {
   "cell_type": "code",
   "execution_count": null,
   "metadata": {},
   "outputs": [],
   "source": []
  }
 ],
 "metadata": {
  "kernelspec": {
   "display_name": "Python 3",
   "language": "python",
   "name": "python3"
  },
  "language_info": {
   "codemirror_mode": {
    "name": "ipython",
    "version": 3
   },
   "file_extension": ".py",
   "mimetype": "text/x-python",
   "name": "python",
   "nbconvert_exporter": "python",
   "pygments_lexer": "ipython3",
   "version": "3.8.3"
  }
 },
 "nbformat": 4,
 "nbformat_minor": 4
}
